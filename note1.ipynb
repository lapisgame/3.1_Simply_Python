{
 "cells": [
  {
   "cell_type": "markdown",
   "metadata": {},
   "source": [
    "Выполните следующие задания на Python:\n",
    "\n",
    "a) Написать программу, которая удаляет из списка все элементы, стоящие на четных позициях.\n",
    "\n",
    "b) Написать программу, которая считывает список слов и находит слова, содержащие более трех гласных букв.\n",
    "\n",
    "c) Написать программу, которая находит второй по величине элемент в списке.\n",
    "\n",
    "d) Написать программу, которая удаляет из списка все дубликаты.\n",
    "\n",
    "e) Написать программу, которая считывает данные из CSV-файла и создает словарь, где ключами являются значения в столбце «Name», а значениями — соответствующие им словари с информацией о поле, возрасте и зарплате.\n",
    "\n",
    "f) Написать программу, которая запрашивает у пользователя строку и выводит на экран все ее подстроки длиной не менее трех символов."
   ]
  },
  {
   "cell_type": "code",
   "execution_count": 18,
   "metadata": {},
   "outputs": [
    {
     "name": "stdout",
     "output_type": "stream",
     "text": [
      "[2, 4, 6]\n"
     ]
    }
   ],
   "source": [
    "#Позиции массива считаются с 0, так что элементы на четных местах будут считаться 1,3 и 5 \n",
    "def a(lst) -> list:\n",
    "    for i in range(len(lst)-1, -1, -1):\n",
    "        lst.pop(i) if i % 2 == 0 else ...\n",
    "    return lst\n",
    "\n",
    "print(a([1,2,3,4,5,6]))"
   ]
  },
  {
   "cell_type": "code",
   "execution_count": 25,
   "metadata": {},
   "outputs": [
    {
     "name": "stdout",
     "output_type": "stream",
     "text": [
      "['приивет', 'программирование']\n"
     ]
    }
   ],
   "source": [
    "def b(lst) -> list:\n",
    "    res = []\n",
    "    glas = ['а','у','е','и','о','я']\n",
    "    for word in lst:\n",
    "        count = 0\n",
    "        for x in word:\n",
    "            if x in glas:\n",
    "                count+=1\n",
    "            \n",
    "        if count>=3:\n",
    "            res.append(word)\n",
    "    return res\n",
    "\n",
    "print(b(['привет', 'приивет', 'программирование']))"
   ]
  },
  {
   "cell_type": "code",
   "execution_count": 42,
   "metadata": {},
   "outputs": [
    {
     "name": "stdout",
     "output_type": "stream",
     "text": [
      "1.   2 > 1 = True    -> 0\n",
      "2.   3 > 2 = True    -> 1\n",
      "3.   5 > 3 = True    -> 2\n",
      "4.   6 > 5 = True    -> 3\n",
      "6\n",
      "6\n"
     ]
    }
   ],
   "source": [
    "def c_1(lst) -> int:\n",
    "    max_i = 0\n",
    "    for i in range(len(lst)):\n",
    "        if (lst[i]>lst[max_i]):\n",
    "            max_i = i\n",
    "    \n",
    "    max2_i = 0\n",
    "    for i in range(len(lst)):\n",
    "        if (lst[i]>lst[max2_i]) and (i != max_i):\n",
    "            max2_i = i\n",
    "    return lst[max2_i]\n",
    "\n",
    "def c_2(lst) -> int:\n",
    "    return sorted(set(lst), reverse=True)[1]\n",
    "\n",
    "c = [1,2,3,5,6,8,1,3,5,4]\n",
    "print(c_1(c))\n",
    "print(c_2(c))"
   ]
  },
  {
   "cell_type": "code",
   "execution_count": 7,
   "metadata": {},
   "outputs": [
    {
     "name": "stdout",
     "output_type": "stream",
     "text": [
      "[1, 2, 3, 5, 6]\n",
      "[1, 2, 3, 5, 6]\n"
     ]
    }
   ],
   "source": [
    "def d_1(lst) -> list:\n",
    "    for item in lst:\n",
    "        while lst.count(item) > 1:\n",
    "            lst.remove(item)\n",
    "    return lst\n",
    "\n",
    "def d_2(lst) -> list:\n",
    "    return list(set(lst))\n",
    "\n",
    "print(d_1([1,1,1,2,3,5,6]))\n",
    "print(d_2([1,1,1,2,3,5,6]))"
   ]
  },
  {
   "cell_type": "code",
   "execution_count": 11,
   "metadata": {},
   "outputs": [
    {
     "data": {
      "text/plain": [
       "{'Иванов М.С.': {'age': 24, 'salary': 50000, 'sex': 'male'},\n",
       " 'Петров Ф.С.': {'age': 28, 'salary': 45000, 'sex': 'male'},\n",
       " 'Федоров П.Р.': {'age': 29, 'salary': 35000, 'sex': 'male'},\n",
       " 'Абрамова А.А.': {'age': 30, 'salary': 90000, 'sex': 'female'},\n",
       " 'Самарин С.С.': {'age': 21, 'salary': 30000, 'sex': 'male'},\n",
       " 'Туполев И.Д.': {'age': 38, 'salary': 40000, 'sex': 'male'},\n",
       " 'Баранов П.В.': {'age': 41, 'salary': 60000, 'sex': 'male'},\n",
       " 'Шевцова А.Р.': {'age': 27, 'salary': 30000, 'sex': 'female'},\n",
       " 'Белых К.Д.': {'age': 31, 'salary': 100000, 'sex': 'female'},\n",
       " 'Садиев С.И.': {'age': 40, 'salary': 90000, 'sex': 'male'},\n",
       " 'Астахов И.И.': {'age': 47, 'salary': 100000, 'sex': 'male'},\n",
       " 'Борисов В.В.': {'age': 43, 'salary': 50000, 'sex': 'male'},\n",
       " 'Тощаков П.С.': {'age': 44, 'salary': 50000, 'sex': 'male'},\n",
       " 'Солиева К.П.': {'age': 50, 'salary': 130000, 'sex': 'female'},\n",
       " 'Левченко А.Г.': {'age': 55, 'salary': 110000, 'sex': 'female'},\n",
       " 'Хованец Г.П.': {'age': 52, 'salary': 90000, 'sex': 'female'},\n",
       " 'Тихомиров Т.М.': {'age': 47, 'salary': 45000, 'sex': 'male'},\n",
       " 'Дворников М.А.': {'age': 24, 'salary': 35000, 'sex': 'male'},\n",
       " 'Жидкова Р.Л.': {'age': 35, 'salary': 30000, 'sex': 'female'}}"
      ]
     },
     "execution_count": 11,
     "metadata": {},
     "output_type": "execute_result"
    }
   ],
   "source": [
    "import pandas as pd\n",
    "df = pd.read_csv('data.csv', delimiter=';')\n",
    "df.set_index(\"name\", drop=True, inplace=True)\n",
    "fin_dict = df.to_dict(orient=\"index\")\n",
    "fin_dict"
   ]
  },
  {
   "cell_type": "code",
   "execution_count": null,
   "metadata": {},
   "outputs": [],
   "source": []
  }
 ],
 "metadata": {
  "kernelspec": {
   "display_name": "Python 3",
   "language": "python",
   "name": "python3"
  },
  "language_info": {
   "codemirror_mode": {
    "name": "ipython",
    "version": 3
   },
   "file_extension": ".py",
   "mimetype": "text/x-python",
   "name": "python",
   "nbconvert_exporter": "python",
   "pygments_lexer": "ipython3",
   "version": "3.11.4"
  },
  "orig_nbformat": 4
 },
 "nbformat": 4,
 "nbformat_minor": 2
}
