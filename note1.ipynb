{
 "cells": [
  {
   "cell_type": "markdown",
   "metadata": {},
   "source": [
    "Выполните следующие задания на Python:\n",
    "\n",
    "a) Написать программу, которая удаляет из списка все элементы, стоящие на четных позициях.\n",
    "\n",
    "b) Написать программу, которая считывает список слов и находит слова, содержащие более трех гласных букв.\n",
    "\n",
    "c) Написать программу, которая находит второй по величине элемент в списке.\n",
    "\n",
    "d) Написать программу, которая удаляет из списка все дубликаты.\n",
    "\n",
    "e) Написать программу, которая считывает данные из CSV-файла и создает словарь, где ключами являются значения в столбце «Name», а значениями — соответствующие им словари с информацией о поле, возрасте и зарплате.\n",
    "\n",
    "f) Написать программу, которая запрашивает у пользователя строку и выводит на экран все ее подстроки длиной не менее трех символов."
   ]
  },
  {
   "cell_type": "code",
   "execution_count": 18,
   "metadata": {},
   "outputs": [
    {
     "name": "stdout",
     "output_type": "stream",
     "text": [
      "[2, 4, 6]\n"
     ]
    }
   ],
   "source": [
    "#Позиции массива считаются с 0, так что элементы на четных местах будут считаться 1,3 и 5 \n",
    "def a(lst) -> list:\n",
    "    for i in range(len(lst)-1, -1, -1):\n",
    "        lst.pop(i) if i % 2 == 0 else ...\n",
    "    return lst\n",
    "\n",
    "print(a([1,2,3,4,5,6]))"
   ]
  }
 ],
 "metadata": {
  "kernelspec": {
   "display_name": "Python 3",
   "language": "python",
   "name": "python3"
  },
  "language_info": {
   "codemirror_mode": {
    "name": "ipython",
    "version": 3
   },
   "file_extension": ".py",
   "mimetype": "text/x-python",
   "name": "python",
   "nbconvert_exporter": "python",
   "pygments_lexer": "ipython3",
   "version": "3.11.4"
  },
  "orig_nbformat": 4
 },
 "nbformat": 4,
 "nbformat_minor": 2
}
